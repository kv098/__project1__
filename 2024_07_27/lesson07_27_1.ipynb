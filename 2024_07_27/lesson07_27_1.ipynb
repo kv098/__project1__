{
 "cells": [
  {
   "cell_type": "code",
   "execution_count": 2,
   "metadata": {},
   "outputs": [
    {
     "name": "stdout",
     "output_type": "stream",
     "text": [
      "\n",
      "12,12.0,12.0,abc,efg\n",
      "12,12.0,12.0,abc,efg.\n"
     ]
    }
   ],
   "source": [
    "print()\n",
    "print(12,12.0,'12.0','abc',\"efg\",sep=',')\n",
    "print(12,12.0,'12.0','abc',\"efg\",sep=',',end='.\\n')"
   ]
  },
  {
   "cell_type": "code",
   "execution_count": 15,
   "metadata": {},
   "outputs": [
    {
     "name": "stdout",
     "output_type": "stream",
     "text": [
      "vincy|89|87.1|99.5\n",
      "<class 'str'>\n",
      "<class 'int'>\n",
      "<class 'float'>\n"
     ]
    }
   ],
   "source": [
    "name = 'vincy'\n",
    "chinese = 89\n",
    "english = 87.1\n",
    "math = 99.5\n",
    "print(name,chinese,english,math,sep='|')\n",
    "print(type(name))\n",
    "print(type(chinese))\n",
    "print(type(english))"
   ]
  },
  {
   "cell_type": "code",
   "execution_count": 36,
   "metadata": {},
   "outputs": [
    {
     "data": {
      "text/plain": [
       "7"
      ]
     },
     "execution_count": 36,
     "metadata": {},
     "output_type": "execute_result"
    }
   ],
   "source": [
    "import random\n",
    "randnum = random.randint(1,10)\n",
    "randnum"
   ]
  },
  {
   "cell_type": "code",
   "execution_count": 49,
   "metadata": {},
   "outputs": [
    {
     "name": "stdout",
     "output_type": "stream",
     "text": [
      "13\n",
      "27\n",
      "53\n",
      "80\n",
      "2\n",
      "2.3333333333333335\n",
      "1\n"
     ]
    }
   ],
   "source": [
    "#數學運算\n",
    "print (5 + 8)\n",
    "print (3 ** 3)\n",
    "print (3 + 5 * 10)\n",
    "print ((3 + 5)*10)\n",
    "print (7 // 3)\n",
    "print ( 7 /3 )\n",
    "print (7 % 3)"
   ]
  },
  {
   "cell_type": "code",
   "execution_count": null,
   "metadata": {},
   "outputs": [],
   "source": []
  }
 ],
 "metadata": {
  "kernelspec": {
   "display_name": "venv1",
   "language": "python",
   "name": "python3"
  },
  "language_info": {
   "codemirror_mode": {
    "name": "ipython",
    "version": 3
   },
   "file_extension": ".py",
   "mimetype": "text/x-python",
   "name": "python",
   "nbconvert_exporter": "python",
   "pygments_lexer": "ipython3",
   "version": "3.11.2"
  }
 },
 "nbformat": 4,
 "nbformat_minor": 2
}
