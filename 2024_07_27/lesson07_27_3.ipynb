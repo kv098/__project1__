{
 "cells": [
  {
   "cell_type": "code",
   "execution_count": 14,
   "metadata": {},
   "outputs": [
    {
     "name": "stdout",
     "output_type": "stream",
     "text": [
      "/home/pi/Documents/GitHub/chihlee_raspberry/2024_07_27/__main__\n",
      "/home/pi/Documents/GitHub/chihlee_raspberry/2024_07_27\n",
      "/home/pi/Documents/GitHub/chihlee_raspberry/2024_07_27/data\n"
     ]
    },
    {
     "data": {
      "text/plain": [
       "False"
      ]
     },
     "execution_count": 14,
     "metadata": {},
     "output_type": "execute_result"
    }
   ],
   "source": [
    "import os.path\n",
    "\n",
    "current_path = os.path.abspath(__name__)\n",
    "print(current_path)\n",
    "directory_name = os.path.dirname(current_path)\n",
    "print(directory_name)\n",
    "data_path = os.path.join(dictertory_name, 'data')\n",
    "print(data_path)\n",
    "os.path.isdir(data_path)\n"
   ]
  },
  {
   "cell_type": "code",
   "execution_count": 15,
   "metadata": {},
   "outputs": [
    {
     "name": "stdout",
     "output_type": "stream",
     "text": [
      "沒有DATA的目錄，手動建立目錄\n"
     ]
    }
   ],
   "source": [
    "if not os.path.isdir(data_path):\n",
    "    print(\"沒有DATA的目錄，手動建立目錄\")"
   ]
  },
  {
   "cell_type": "code",
   "execution_count": 4,
   "metadata": {},
   "outputs": [
    {
     "data": {
      "text/plain": [
       "'__main__'"
      ]
     },
     "execution_count": 4,
     "metadata": {},
     "output_type": "execute_result"
    }
   ],
   "source": [
    "__name__"
   ]
  }
 ],
 "metadata": {
  "kernelspec": {
   "display_name": "venv1",
   "language": "python",
   "name": "python3"
  },
  "language_info": {
   "codemirror_mode": {
    "name": "ipython",
    "version": 3
   },
   "file_extension": ".py",
   "mimetype": "text/x-python",
   "name": "python",
   "nbconvert_exporter": "python",
   "pygments_lexer": "ipython3",
   "version": "3.11.2"
  }
 },
 "nbformat": 4,
 "nbformat_minor": 2
}
